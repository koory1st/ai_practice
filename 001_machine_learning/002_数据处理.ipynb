{
 "cells": [
  {
   "cell_type": "code",
   "execution_count": 1,
   "id": "586c7109",
   "metadata": {},
   "outputs": [],
   "source": [
    "import pandas as pd"
   ]
  },
  {
   "cell_type": "markdown",
   "id": "4e9d75ff",
   "metadata": {},
   "source": [
    "# 读取数据集\n",
    "https://raw.githubusercontent.com/datasciencedojo/datasets/master/titanic.csv\n",
    "\n",
    "http://download.tensorflow.org/data/iris_training.csv"
   ]
  },
  {
   "cell_type": "code",
   "execution_count": 2,
   "id": "76aee853",
   "metadata": {},
   "outputs": [],
   "source": [
    "url = 'http://download.tensorflow.org/data/iris_training.csv'\n",
    "\n",
    "df = pd.read_csv(url, header=None)"
   ]
  },
  {
   "cell_type": "markdown",
   "id": "d0c4f88b",
   "metadata": {},
   "source": []
  },
  {
   "cell_type": "markdown",
   "id": "3f876e8c",
   "metadata": {},
   "source": []
  },
  {
   "cell_type": "markdown",
   "id": "274e94fe",
   "metadata": {},
   "source": []
  }
 ],
 "metadata": {
  "kernelspec": {
   "display_name": "Python 3 (ipykernel)",
   "language": "python",
   "name": "python3"
  },
  "language_info": {
   "codemirror_mode": {
    "name": "ipython",
    "version": 3
   },
   "file_extension": ".py",
   "mimetype": "text/x-python",
   "name": "python",
   "nbconvert_exporter": "python",
   "pygments_lexer": "ipython3",
   "version": "3.13.7"
  }
 },
 "nbformat": 4,
 "nbformat_minor": 5
}
