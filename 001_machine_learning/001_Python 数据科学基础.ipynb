{
 "cells": [
  {
   "cell_type": "markdown",
   "id": "e78a77dc",
   "metadata": {},
   "source": [
    "# 题目 1：数组创建练习"
   ]
  },
  {
   "cell_type": "code",
   "execution_count": 2,
   "id": "c9c7beab",
   "metadata": {},
   "outputs": [],
   "source": [
    "import numpy as np"
   ]
  },
  {
   "cell_type": "markdown",
   "id": "ef19e2c6",
   "metadata": {},
   "source": [
    "## 使用`numpy`创建一个从 5 开始，到 50 结束（不包含 50），步长为 5 的一维数组"
   ]
  },
  {
   "cell_type": "code",
   "execution_count": null,
   "id": "02f4094c",
   "metadata": {},
   "outputs": [
    {
     "data": {
      "text/plain": [
       "array([ 5, 10, 15, 20, 25, 30, 35, 40, 45])"
      ]
     },
     "execution_count": 3,
     "metadata": {},
     "output_type": "execute_result"
    }
   ],
   "source": [
    "\n"
   ]
  },
  {
   "cell_type": "markdown",
   "id": "b6b7238b",
   "metadata": {},
   "source": [
    "## 使用`numpy`创建一个从 0 到 1 之间均匀分布的 11 个元素的一维数组"
   ]
  },
  {
   "cell_type": "code",
   "execution_count": null,
   "id": "6cf07833",
   "metadata": {},
   "outputs": [
    {
     "data": {
      "text/plain": [
       "array([0. , 0.1, 0.2, 0.3, 0.4, 0.5, 0.6, 0.7, 0.8, 0.9, 1. ])"
      ]
     },
     "execution_count": 4,
     "metadata": {},
     "output_type": "execute_result"
    }
   ],
   "source": []
  },
  {
   "cell_type": "markdown",
   "id": "be9f7228",
   "metadata": {},
   "source": [
    "## 将上面两个数组转换为 3×3 的二维数组（提示：需要先截取合适长度）"
   ]
  },
  {
   "cell_type": "code",
   "execution_count": null,
   "id": "4fa32876",
   "metadata": {},
   "outputs": [
    {
     "data": {
      "text/plain": [
       "array([[ 5, 10, 15],\n",
       "       [20, 25, 30],\n",
       "       [35, 40, 45]])"
      ]
     },
     "execution_count": 5,
     "metadata": {},
     "output_type": "execute_result"
    }
   ],
   "source": []
  },
  {
   "cell_type": "code",
   "execution_count": null,
   "id": "3af46c4c",
   "metadata": {},
   "outputs": [
    {
     "data": {
      "text/plain": [
       "array([[0. , 0.1, 0.2],\n",
       "       [0.3, 0.4, 0.5],\n",
       "       [0.6, 0.7, 0.8]])"
      ]
     },
     "execution_count": 6,
     "metadata": {},
     "output_type": "execute_result"
    }
   ],
   "source": []
  },
  {
   "cell_type": "markdown",
   "id": "ce7a315b",
   "metadata": {},
   "source": [
    "# 题目 2：广播机制练习"
   ]
  },
  {
   "cell_type": "markdown",
   "id": "de596094",
   "metadata": {},
   "source": [
    "## 创建一个 3×3 的单位矩阵"
   ]
  },
  {
   "cell_type": "code",
   "execution_count": null,
   "id": "b6a33271",
   "metadata": {},
   "outputs": [
    {
     "data": {
      "text/plain": [
       "array([[1., 0., 0.],\n",
       "       [0., 1., 0.],\n",
       "       [0., 0., 1.]])"
      ]
     },
     "execution_count": 7,
     "metadata": {},
     "output_type": "execute_result"
    }
   ],
   "source": []
  },
  {
   "cell_type": "markdown",
   "id": "f12d6184",
   "metadata": {},
   "source": [
    "## 使用`numpy`创建一个 3×3 的全零矩阵"
   ]
  },
  {
   "cell_type": "code",
   "execution_count": null,
   "id": "cba04d1f",
   "metadata": {},
   "outputs": [
    {
     "data": {
      "text/plain": [
       "array([[0., 0., 0.],\n",
       "       [0., 0., 0.],\n",
       "       [0., 0., 0.]])"
      ]
     },
     "execution_count": 8,
     "metadata": {},
     "output_type": "execute_result"
    }
   ],
   "source": []
  },
  {
   "cell_type": "markdown",
   "id": "613122d7",
   "metadata": {},
   "source": [
    "## 使用`numpy`创建一个形状为 (3, 3) 的随机数组`A`（取值范围 0-10，整数）"
   ]
  },
  {
   "cell_type": "code",
   "execution_count": null,
   "id": "13960290",
   "metadata": {},
   "outputs": [
    {
     "data": {
      "text/plain": [
       "array([[0, 0, 0],\n",
       "       [0, 7, 4],\n",
       "       [8, 2, 5]])"
      ]
     },
     "execution_count": 11,
     "metadata": {},
     "output_type": "execute_result"
    }
   ],
   "source": []
  },
  {
   "cell_type": "markdown",
   "id": "5d38a0c0",
   "metadata": {},
   "source": [
    "## 使用`numpy`创建一个形状为 (3, 1) 的数组`B`（元素为 1, 2, 3）"
   ]
  },
  {
   "cell_type": "code",
   "execution_count": null,
   "id": "05143d89",
   "metadata": {},
   "outputs": [
    {
     "data": {
      "text/plain": [
       "array([[1],\n",
       "       [2],\n",
       "       [3]])"
      ]
     },
     "execution_count": 12,
     "metadata": {},
     "output_type": "execute_result"
    }
   ],
   "source": []
  },
  {
   "cell_type": "markdown",
   "id": "231b1006",
   "metadata": {},
   "source": [
    "## 计算`A + B`，观察广播效果"
   ]
  },
  {
   "cell_type": "code",
   "execution_count": null,
   "id": "354eeb69",
   "metadata": {},
   "outputs": [
    {
     "data": {
      "text/plain": [
       "array([[ 1,  1,  1],\n",
       "       [ 2,  9,  6],\n",
       "       [11,  5,  8]])"
      ]
     },
     "execution_count": 13,
     "metadata": {},
     "output_type": "execute_result"
    }
   ],
   "source": []
  },
  {
   "cell_type": "code",
   "execution_count": null,
   "id": "3bf0b2ca",
   "metadata": {},
   "outputs": [
    {
     "data": {
      "text/plain": [
       "array([[ 2,  2,  2],\n",
       "       [ 2,  9,  6],\n",
       "       [10,  4,  7]])"
      ]
     },
     "execution_count": 14,
     "metadata": {},
     "output_type": "execute_result"
    }
   ],
   "source": []
  },
  {
   "cell_type": "markdown",
   "id": "b3453a0e",
   "metadata": {},
   "source": [
    "## 使用`numpy`创建一个形状为 (1, 3) 的数组`C`（元素为 4, 5, 6）"
   ]
  },
  {
   "cell_type": "code",
   "execution_count": null,
   "id": "fbb60189",
   "metadata": {},
   "outputs": [
    {
     "data": {
      "text/plain": [
       "array([[4, 5, 6]])"
      ]
     },
     "execution_count": 15,
     "metadata": {},
     "output_type": "execute_result"
    }
   ],
   "source": []
  },
  {
   "cell_type": "markdown",
   "id": "d90a671a",
   "metadata": {},
   "source": [
    "## 计算`A * C`，观察广播效果"
   ]
  },
  {
   "cell_type": "code",
   "execution_count": null,
   "id": "e50707f7",
   "metadata": {},
   "outputs": [
    {
     "data": {
      "text/plain": [
       "array([[ 0,  0,  0],\n",
       "       [ 0, 35, 24],\n",
       "       [32, 10, 30]])"
      ]
     },
     "execution_count": 16,
     "metadata": {},
     "output_type": "execute_result"
    }
   ],
   "source": []
  },
  {
   "cell_type": "markdown",
   "id": "f4f8339f",
   "metadata": {},
   "source": [
    "## 尝试计算`B + C`，解释结果的形状为什么是 (3, 3)"
   ]
  },
  {
   "cell_type": "code",
   "execution_count": null,
   "id": "29873d67",
   "metadata": {},
   "outputs": [
    {
     "data": {
      "text/plain": [
       "array([[5, 6, 7],\n",
       "       [6, 7, 8],\n",
       "       [7, 8, 9]])"
      ]
     },
     "execution_count": 17,
     "metadata": {},
     "output_type": "execute_result"
    }
   ],
   "source": []
  },
  {
   "cell_type": "code",
   "execution_count": null,
   "id": "5a55689f",
   "metadata": {},
   "outputs": [
    {
     "data": {
      "text/plain": [
       "array([[5, 6, 7],\n",
       "       [6, 7, 8],\n",
       "       [7, 8, 9]])"
      ]
     },
     "execution_count": 18,
     "metadata": {},
     "output_type": "execute_result"
    }
   ],
   "source": []
  },
  {
   "cell_type": "markdown",
   "id": "80d1c854",
   "metadata": {},
   "source": [
    "# 题目 3：索引切片练习"
   ]
  },
  {
   "cell_type": "markdown",
   "id": "16e81966",
   "metadata": {},
   "source": [
    "使用以下数组`arr`完成操作："
   ]
  },
  {
   "cell_type": "code",
   "execution_count": 3,
   "id": "cc481631",
   "metadata": {},
   "outputs": [
    {
     "data": {
      "text/plain": [
       "array([[51, 92, 14, 71, 60],\n",
       "       [20, 82, 86, 74, 74],\n",
       "       [87, 99, 23,  2, 21],\n",
       "       [52,  1, 87, 29, 37],\n",
       "       [ 1, 63, 59, 20, 32]])"
      ]
     },
     "execution_count": 3,
     "metadata": {},
     "output_type": "execute_result"
    }
   ],
   "source": [
    "import numpy as np\n",
    "np.random.seed(42)  # 设置随机种子，保证结果可复现\n",
    "arr = np.random.randint(0, 100, size=(5, 5))  # 5×5的随机整数数组（0-99）\n",
    "arr"
   ]
  },
  {
   "cell_type": "markdown",
   "id": "140c1df8",
   "metadata": {},
   "source": [
    "## 获取数组`arr`的第 2 行（索引从 0 开始）"
   ]
  },
  {
   "cell_type": "code",
   "execution_count": null,
   "id": "82ff7d80",
   "metadata": {},
   "outputs": [
    {
     "data": {
      "text/plain": [
       "array([20, 82, 86, 74, 74])"
      ]
     },
     "execution_count": 4,
     "metadata": {},
     "output_type": "execute_result"
    }
   ],
   "source": []
  },
  {
   "cell_type": "markdown",
   "id": "f96aa680",
   "metadata": {},
   "source": [
    "## 获取数组`arr`的第 3 列"
   ]
  },
  {
   "cell_type": "code",
   "execution_count": null,
   "id": "0e3ff824",
   "metadata": {},
   "outputs": [
    {
     "data": {
      "text/plain": [
       "array([14, 86, 23, 87, 59])"
      ]
     },
     "execution_count": 5,
     "metadata": {},
     "output_type": "execute_result"
    }
   ],
   "source": []
  },
  {
   "cell_type": "markdown",
   "id": "781214b3",
   "metadata": {},
   "source": [
    "## 获取数组`arr`的前 3 行和前 3 列构成的子数组"
   ]
  },
  {
   "cell_type": "code",
   "execution_count": null,
   "id": "733918f6",
   "metadata": {},
   "outputs": [
    {
     "data": {
      "text/plain": [
       "array([[51, 92, 14],\n",
       "       [20, 82, 86],\n",
       "       [87, 99, 23]])"
      ]
     },
     "execution_count": 11,
     "metadata": {},
     "output_type": "execute_result"
    }
   ],
   "source": []
  },
  {
   "cell_type": "markdown",
   "id": "5d1a7e71",
   "metadata": {},
   "source": [
    "## 获取数组`arr`中所有大于 50 的元素"
   ]
  },
  {
   "cell_type": "code",
   "execution_count": null,
   "id": "fd3246f9",
   "metadata": {},
   "outputs": [
    {
     "data": {
      "text/plain": [
       "array([51, 92, 71, 60, 82, 86, 74, 74, 87, 99, 52, 87, 63, 59])"
      ]
     },
     "execution_count": 12,
     "metadata": {},
     "output_type": "execute_result"
    }
   ],
   "source": []
  },
  {
   "cell_type": "markdown",
   "id": "971f47a2",
   "metadata": {},
   "source": [
    "## 将数组`arr`中所有小于 30 的元素替换为 0"
   ]
  },
  {
   "cell_type": "code",
   "execution_count": null,
   "id": "71e371f4",
   "metadata": {},
   "outputs": [
    {
     "data": {
      "text/plain": [
       "array([[51, 92,  0, 71, 60],\n",
       "       [ 0, 82, 86, 74, 74],\n",
       "       [87, 99,  0,  0,  0],\n",
       "       [52,  0, 87,  0, 37],\n",
       "       [ 0, 63, 59,  0, 32]])"
      ]
     },
     "execution_count": 13,
     "metadata": {},
     "output_type": "execute_result"
    }
   ],
   "source": []
  },
  {
   "cell_type": "markdown",
   "id": "4516e752",
   "metadata": {},
   "source": [
    "## 获取数组`arr`中偶数行和奇数列的元素（即行索引 0,2,4；列索引 1,3）"
   ]
  },
  {
   "cell_type": "code",
   "execution_count": null,
   "id": "d34dcab5",
   "metadata": {},
   "outputs": [
    {
     "data": {
      "text/plain": [
       "array([[92, 71],\n",
       "       [99,  0],\n",
       "       [63,  0]])"
      ]
     },
     "execution_count": 14,
     "metadata": {},
     "output_type": "execute_result"
    }
   ],
   "source": []
  },
  {
   "cell_type": "code",
   "execution_count": null,
   "id": "899bce6e",
   "metadata": {},
   "outputs": [],
   "source": []
  }
 ],
 "metadata": {
  "kernelspec": {
   "display_name": "Python 3 (ipykernel)",
   "language": "python",
   "name": "python3"
  },
  "language_info": {
   "codemirror_mode": {
    "name": "ipython",
    "version": 3
   },
   "file_extension": ".py",
   "mimetype": "text/x-python",
   "name": "python",
   "nbconvert_exporter": "python",
   "pygments_lexer": "ipython3",
   "version": "3.13.7"
  }
 },
 "nbformat": 4,
 "nbformat_minor": 5
}
